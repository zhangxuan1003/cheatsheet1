{
  "cells": [
    {
      "cell_type": "markdown",
      "metadata": {
        "id": "view-in-github",
        "colab_type": "text"
      },
      "source": [
        "<a href=\"https://colab.research.google.com/github/zhangxuan1003/cheatsheet1/blob/master/Flow_over_cylinder.ipynb\" target=\"_parent\"><img src=\"https://colab.research.google.com/assets/colab-badge.svg\" alt=\"Open In Colab\"/></a>"
      ]
    },
    {
      "cell_type": "markdown",
      "metadata": {
        "id": "bndPQPSrM6LH"
      },
      "source": [
        "# Attribute\n",
        "\n",
        "**Original Work**: *Maziar Raissi, Paris Perdikaris, and George Em Karniadakis*\n",
        "\n",
        "**Github Repo** : https://github.com/maziarraissi/PINNs\n",
        "\n",
        "**Link:** https://github.com/maziarraissi/PINNs/tree/master/appendix/continuous_time_identification%20(Burgers)\n",
        "\n",
        "@article{raissi2017physicsI,\n",
        "  title={Physics Informed Deep Learning (Part I): Data-driven Solutions of Nonlinear Partial Differential Equations},\n",
        "  author={Raissi, Maziar and Perdikaris, Paris and Karniadakis, George Em},\n",
        "  journal={arXiv preprint arXiv:1711.10561},\n",
        "  year={2017}\n",
        "}\n",
        "\n",
        "@article{raissi2017physicsII,\n",
        "  title={Physics Informed Deep Learning (Part II): Data-driven Discovery of Nonlinear Partial Differential Equations},\n",
        "  author={Raissi, Maziar and Perdikaris, Paris and Karniadakis, George Em},\n",
        "  journal={arXiv preprint arXiv:1711.10566},\n",
        "  year={2017}\n",
        "}"
      ]
    },
    {
      "cell_type": "markdown",
      "metadata": {
        "id": "nMpRG1OLM6LI"
      },
      "source": [
        "## Libraries and Dependencies"
      ]
    },
    {
      "cell_type": "code",
      "execution_count": null,
      "metadata": {
        "id": "HYdXDbm9M6LI",
        "colab": {
          "base_uri": "https://localhost:8080/"
        },
        "outputId": "e4ad5af3-60f5-4fee-8a73-a459d0fb288a"
      },
      "outputs": [
        {
          "output_type": "stream",
          "name": "stdout",
          "text": [
            "Looking in indexes: https://pypi.org/simple, https://us-python.pkg.dev/colab-wheels/public/simple/\n",
            "Collecting pyDOE\n",
            "  Downloading pyDOE-0.3.8.zip (22 kB)\n",
            "  Preparing metadata (setup.py) ... \u001b[?25l\u001b[?25hdone\n",
            "Requirement already satisfied: numpy in /usr/local/lib/python3.10/dist-packages (from pyDOE) (1.22.4)\n",
            "Requirement already satisfied: scipy in /usr/local/lib/python3.10/dist-packages (from pyDOE) (1.10.1)\n",
            "Building wheels for collected packages: pyDOE\n",
            "  Building wheel for pyDOE (setup.py) ... \u001b[?25l\u001b[?25hdone\n",
            "  Created wheel for pyDOE: filename=pyDOE-0.3.8-py3-none-any.whl size=18167 sha256=9779e2bbc7302e3182224fa41294c98790324989869dc48a8aa0e9d8271fd38a\n",
            "  Stored in directory: /root/.cache/pip/wheels/ce/b6/d7/c6b64746dba6433c593e471e0ac3acf4f36040456d1d160d17\n",
            "Successfully built pyDOE\n",
            "Installing collected packages: pyDOE\n",
            "Successfully installed pyDOE-0.3.8\n"
          ]
        }
      ],
      "source": [
        "!pip install pyDOE\n",
        "import sys\n",
        "sys.path.insert(0, '../Utilities/')\n",
        "\n",
        "import torch\n",
        "from collections import OrderedDict\n",
        "\n",
        "from pyDOE import lhs\n",
        "import numpy as np\n",
        "import matplotlib.pyplot as plt\n",
        "import scipy.io\n",
        "from scipy.interpolate import griddata\n",
        "# from plotting import newfig, savefig\n",
        "from mpl_toolkits.axes_grid1 import make_axes_locatable\n",
        "import matplotlib.gridspec as gridspec\n",
        "import time\n",
        "\n",
        "np.random.seed(1234)"
      ]
    },
    {
      "cell_type": "code",
      "source": [
        "from google.colab import drive\n",
        "drive.mount('/content/drive')"
      ],
      "metadata": {
        "colab": {
          "base_uri": "https://localhost:8080/"
        },
        "id": "IS0viRfWNJjf",
        "outputId": "8470175b-34dd-4a7a-8249-2fe7041b163c"
      },
      "execution_count": null,
      "outputs": [
        {
          "output_type": "stream",
          "name": "stdout",
          "text": [
            "Mounted at /content/drive\n"
          ]
        }
      ]
    },
    {
      "cell_type": "code",
      "execution_count": null,
      "metadata": {
        "colab": {
          "base_uri": "https://localhost:8080/"
        },
        "id": "1LB5gMQ6M6LJ",
        "outputId": "e0757513-a695-4825-b99e-beb70fe94ca1"
      },
      "outputs": [
        {
          "output_type": "stream",
          "name": "stdout",
          "text": [
            "cuda\n"
          ]
        }
      ],
      "source": [
        "# CUDA support \n",
        "if torch.cuda.is_available():\n",
        "    device = torch.device('cuda')\n",
        "else:\n",
        "    device = torch.device('cpu')\n",
        "print (device)"
      ]
    },
    {
      "cell_type": "markdown",
      "metadata": {
        "id": "H0wOHlUtM6LJ"
      },
      "source": [
        "## Physics-informed Neural Networks"
      ]
    },
    {
      "cell_type": "code",
      "execution_count": null,
      "metadata": {
        "id": "6FsqN7eLM6LJ"
      },
      "outputs": [],
      "source": [
        "# the deep neural network\n",
        "class DNN(torch.nn.Module):\n",
        "    def __init__(self, layers):\n",
        "        super(DNN, self).__init__()\n",
        "        \n",
        "        # parameters\n",
        "        self.depth = len(layers) - 1\n",
        "        \n",
        "        # set up layer order dict\n",
        "        self.activation = torch.nn.Tanh\n",
        "        \n",
        "        layer_list = list()\n",
        "        for i in range(self.depth - 1): \n",
        "            layer_list.append(\n",
        "                ('layer_%d' % i, torch.nn.Linear(layers[i], layers[i+1]))\n",
        "            )\n",
        "            layer_list.append(('activation_%d' % i, self.activation()))\n",
        "            \n",
        "        layer_list.append(\n",
        "            ('layer_%d' % (self.depth - 1), torch.nn.Linear(layers[-2], layers[-1]))\n",
        "        )\n",
        "        layerDict = OrderedDict(layer_list)\n",
        "        # deploy layers\n",
        "        self.layers = torch.nn.Sequential(layerDict)\n",
        "        \n",
        "    def forward(self, x):\n",
        "        out = self.layers(x)\n",
        "        return out[:,0],out[:,1]\n",
        "        # return out"
      ]
    },
    {
      "cell_type": "code",
      "execution_count": null,
      "metadata": {
        "id": "prt4_Jq2M6LJ"
      },
      "outputs": [],
      "source": [
        "# the physics-guided neural network\n",
        "class PhysicsInformedNN():\n",
        "    def __init__(self, dataloader, layers, lb, ub):\n",
        "    # def __init__(self, X_u, u, X_f, layers, lb, ub, nu):\n",
        "        \n",
        "        # boundary conditions\n",
        "        self.lb = torch.tensor(lb).float().to(device)\n",
        "        self.ub = torch.tensor(ub).float().to(device)\n",
        "        \n",
        "        # data\n",
        "        # self.x_u = torch.tensor(X_u[:, 0:1], requires_grad=True).float().to(device)\n",
        "        # self.t_u = torch.tensor(X_u[:, 1:2], requires_grad=True).float().to(device)\n",
        "        # self.x_f = torch.tensor(X_f[:, 0:1], requires_grad=True).float().to(device)\n",
        "        # self.t_f = torch.tensor(X_f[:, 1:2], requires_grad=True).float().to(device)\n",
        "        # self.u = torch.tensor(u).float().to(device)\n",
        "        # for X in dataloader:\n",
        "        #####\n",
        "        self.t = torch.tensor(X[:, 0:1], requires_grad=True).float().to(device)\n",
        "        self.x = torch.tensor(X[:, 1:2], requires_grad=True).float().to(device)\n",
        "        self.y = torch.tensor(X[:, 2:3], requires_grad=True).float().to(device)\n",
        "        self.p = torch.tensor(X[:, 3:4], requires_grad=True).float().to(device)\n",
        "        self.u = torch.tensor(X[:, 4:5], requires_grad=True).float().to(device)\n",
        "        self.v = torch.tensor(X[:, 5:6], requires_grad=True).float().to(device)      \n",
        "        ######\n",
        "        self.layers = layers\n",
        "        # self.nu = nu\n",
        "        \n",
        "        # deep neural networks\n",
        "        self.dnn = DNN(layers).to(device)\n",
        "        \n",
        "        # optimizers: using the same settings\n",
        "        self.optimizer = torch.optim.LBFGS(\n",
        "            self.dnn.parameters(), \n",
        "            lr=1.0, \n",
        "            max_iter=50000, \n",
        "            max_eval=50000, \n",
        "            history_size=50,\n",
        "            tolerance_grad=1e-5, \n",
        "            tolerance_change=1.0 * np.finfo(float).eps,\n",
        "            line_search_fn=\"strong_wolfe\"       # can be \"strong_wolfe\"\n",
        "        )\n",
        "\n",
        "        self.iter = 0\n",
        "        \n",
        "    def net_u(self, t,x,y,p):  \n",
        "        u,v = self.dnn(torch.cat([t,x,y,p], dim=1))\n",
        "        return u,v\n",
        "    \n",
        "    def net_f(self,t,x,y,p):\n",
        "        \"\"\" The pytorch autograd version of calculating residual \"\"\"\n",
        "        u,v = self.net_u(t,x,y,p)\n",
        "        \n",
        "        u_t = torch.autograd.grad(\n",
        "            u, t, \n",
        "            grad_outputs=torch.ones_like(u),\n",
        "            retain_graph=True,\n",
        "            create_graph=True\n",
        "        )[0]\n",
        "        u_x = torch.autograd.grad(\n",
        "            u, x, \n",
        "            grad_outputs=torch.ones_like(u),\n",
        "            retain_graph=True,\n",
        "            create_graph=True\n",
        "        )[0]\n",
        "        u_xx = torch.autograd.grad(\n",
        "            u_x, x, \n",
        "            grad_outputs=torch.ones_like(u_x),\n",
        "            retain_graph=True,\n",
        "            create_graph=True\n",
        "        )[0]\n",
        "        ### there is also du/dy and duy/dyterms here\n",
        "        u_y = torch.autograd.grad(\n",
        "            u, y, \n",
        "            grad_outputs=torch.ones_like(u),\n",
        "            retain_graph=True,\n",
        "            create_graph=True\n",
        "        )[0]\n",
        "        u_yy = torch.autograd.grad(\n",
        "            u_y, y, \n",
        "            grad_outputs=torch.ones_like(u_y),\n",
        "            retain_graph=True,\n",
        "            create_graph=True\n",
        "        )[0]        \n",
        "        ## add v terms here\n",
        "        v_t = torch.autograd.grad(\n",
        "            v, t, \n",
        "            grad_outputs=torch.ones_like(v),\n",
        "            retain_graph=True,\n",
        "            create_graph=True\n",
        "        )[0]\n",
        "        v_y = torch.autograd.grad(\n",
        "            v, y, \n",
        "            grad_outputs=torch.ones_like(v),\n",
        "            retain_graph=True,\n",
        "            create_graph=True\n",
        "        )[0]\n",
        "        v_yy = torch.autograd.grad(\n",
        "            v_y, y, \n",
        "            grad_outputs=torch.ones_like(v_y),\n",
        "            retain_graph=True,\n",
        "            create_graph=True\n",
        "        )[0] \n",
        "        ### there is also dv/dx term and dvx/dx\n",
        "        v_x = torch.autograd.grad(\n",
        "            v, x, \n",
        "            grad_outputs=torch.ones_like(v),\n",
        "            retain_graph=True,\n",
        "            create_graph=True\n",
        "        )[0] \n",
        "        v_xx = torch.autograd.grad(\n",
        "            v_x, x, \n",
        "            grad_outputs=torch.ones_like(v_x),\n",
        "            retain_graph=True,\n",
        "            create_graph=True\n",
        "        )[0]         \n",
        "        ## also pressure term\n",
        "        p_x = torch.autograd.grad(\n",
        "            p, x, \n",
        "            grad_outputs=torch.ones_like(p),\n",
        "            allow_unused=True,\n",
        "            retain_graph=True,\n",
        "            create_graph=True\n",
        "        )[0]\n",
        "        p_y = torch.autograd.grad(\n",
        "            p, y, \n",
        "            grad_outputs=torch.ones_like(p),\n",
        "            allow_unused=True,\n",
        "            retain_graph=True,\n",
        "            create_graph=True\n",
        "        )[0]        \n",
        "        f_u = (\n",
        "            u_t\n",
        "            + 1.0 * (u* u_x)\n",
        "            + p_x\n",
        "            - 0.01 * (u_xx + u_yy)\n",
        "        )\n",
        "        f_v = (\n",
        "            v_t\n",
        "            + 1.0 * (u* v_x + v * v_y)\n",
        "            + p_y\n",
        "            - 0.01 * (v_xx + v_yy)\n",
        "        )\n",
        "        return f_u,f_v\n",
        "    \n",
        "    def loss_func(self):\n",
        "        self.optimizer.zero_grad()\n",
        "        \n",
        "        u_pred,v_pred = self.net_u(self.t,self.x,self.y,self.p)\n",
        "        f_u_pred,f_v_pred = self.net_f(self.t,self.x,self.y,self.p)\n",
        "        loss_u = torch.mean((self.u - u_pred) ** 2 + (self.v - v_pred) ** 2)\n",
        "        loss_f = torch.mean(f_u_pred ** 2 + f_v_pred ** 2)\n",
        "        \n",
        "        loss = loss_u + loss_f\n",
        "        \n",
        "        loss.backward()\n",
        "        self.iter += 1\n",
        "        if self.iter % 100 == 0:\n",
        "            print(\n",
        "                'Iter %d, Loss: %.5e, Loss_u: %.5e, Loss_f: %.5e' % (self.iter, loss.item(), loss_u.item(), loss_f.item())\n",
        "            )\n",
        "        return loss\n",
        "    \n",
        "    def train(self):\n",
        "        self.dnn.train()\n",
        "                \n",
        "        # Backward and optimize\n",
        "        self.optimizer.step(self.loss_func)\n",
        "\n",
        "            \n",
        "    def predict(self, X):\n",
        "        t = torch.tensor(X[:, 0:1], requires_grad=True).float().to(device)\n",
        "        x = torch.tensor(X[:, 1:2], requires_grad=True).float().to(device)\n",
        "        y = torch.tensor(X[:, 2:3], requires_grad=True).float().to(device)\n",
        "        p = torch.tensor(X[:, 3:4], requires_grad=True).float().to(device)\n",
        "\n",
        "        self.dnn.eval()\n",
        "        u = self.net_u(t,x,y,p)\n",
        "        f= self.net_f(t,x,y,p)\n",
        "        u,v = u.detach().cpu().numpy()\n",
        "        f_u,f_v = f.detach().cpu().numpy()\n",
        "        return u,v,f_u, f_v"
      ]
    },
    {
      "cell_type": "markdown",
      "metadata": {
        "id": "JfxUB3DTM6LK"
      },
      "source": [
        "## Configurations"
      ]
    },
    {
      "cell_type": "code",
      "execution_count": null,
      "metadata": {
        "id": "c6pO5yyGM6LK"
      },
      "outputs": [],
      "source": [
        "nu = 0.01\n",
        "\n",
        "N_u = 660000\n",
        "layers = [4, 64, 64, 64, 64, 64, 64, 64,2]\n",
        "\n",
        "data = scipy.io.loadmat('/content/drive/MyDrive/Colab Notebooks/PINNs/Burgers Equation/data/cylinder_nektar_wake.mat')\n",
        "X_star = data[\"X_star\"]  # N x 2\n",
        "x = X_star[:, 0:1]\n",
        "y = X_star[:, 1:2]\n",
        "\n",
        "U_star = data[\"U_star\"]  # N x 2 x T\n",
        "P_star = data[\"p_star\"]  # N x T\n",
        "t_star = data[\"t\"]  # T x 1\n",
        "# X_star = data[\"X_star\"]  # N x 2\n",
        "N = X_star.shape[0]\n",
        "T = t_star.shape[0]\n",
        "XX = np.tile(X_star[:, 0:1], (1, T))  # N x T\n",
        "YY = np.tile(X_star[:, 1:2], (1, T))  # N x T\n",
        "TT = np.tile(t_star, (1, N)).T  # N x T\n",
        "UU = U_star[:, 0, :]  # N x T\n",
        "VV = U_star[:, 1, :]  # N x T\n",
        "PP = P_star  # N x T\n",
        "x = XX.flatten()[:, None]  # NT x 1\n",
        "y = YY.flatten()[:, None]  # NT x 1\n",
        "t = TT.flatten()[:, None]  # NT x 1\n",
        "\n",
        "u = UU.flatten()[:, None]  # NT x 1\n",
        "v = VV.flatten()[:, None]  # NT x 1}\n",
        "p = PP.flatten()[:, None]  # NT x 1\n",
        "min_x = np.min(x)\n",
        "max_x = np.max(x)\n",
        "train_data = np.hstack((t, x, y, p, u, v))\n",
        "lb = train_data.min(0)\n",
        "ub = train_data.max(0) "
      ]
    },
    {
      "cell_type": "code",
      "source": [],
      "metadata": {
        "colab": {
          "base_uri": "https://localhost:8080/"
        },
        "id": "cNV-J3enao3v",
        "outputId": "7fb883db-013e-4751-8e34-69cb0d0eaa62"
      },
      "execution_count": null,
      "outputs": [
        {
          "output_type": "execute_result",
          "data": {
            "text/plain": [
              "-0.624110517662326"
            ]
          },
          "metadata": {},
          "execution_count": 78
        }
      ]
    },
    {
      "cell_type": "code",
      "source": [
        "\n",
        "# nu = 0.01\n",
        "\n",
        "# # N_u = 900\n",
        "# layers = [4, 64, 64, 64, 64, 64, 64, 64,2]\n",
        "\n",
        "# data = scipy.io.loadmat('/content/drive/MyDrive/Colab Notebooks/PINNs/Burgers Equation/data/data.mat')\n",
        "\n",
        "# # t = data['t'].flatten()[:,None]\n",
        "# # x = data['x'].flatten()[:,None]\n",
        "# # Exact = np.real(data['usol']).T\n",
        "\n",
        "# # X, T = np.meshgrid(x,t)\n",
        "\n",
        "# # X_star = np.hstack((X.flatten()[:,None], T.flatten()[:,None]))  # [X=-1:1, t=0],[X=-1:1, t=0.01],...[X=-1:1, t=0.99]\n",
        "# # u_star = Exact.flatten()[:,None]              \n",
        "\n",
        "# # # Doman bounds\n",
        "# # lb = X_star.min(0)\n",
        "# # ub = X_star.max(0) \n",
        "# X_star = data[\"X_star\"]  # N x 2\n",
        "# x = X_star[:, 0:1]\n",
        "# y = X_star[:, 1:2]\n",
        "\n",
        "# U_star = data[\"U_star\"]  # N x 2 x T\n",
        "# P_star = data[\"p_star\"]  # N x T\n",
        "# t_star = data[\"t\"]  # T x 1\n",
        "# X_star = data[\"X_star\"]  # N x 2\n",
        "\n",
        "\n",
        "# N = X_star.shape[0]\n",
        "# T = t_star.shape[0]\n",
        "\n",
        "# # Rearrange Data\n",
        "# XX = np.tile(X_star[:, 0:1], (1, T))  # N x T\n",
        "# YY = np.tile(X_star[:, 1:2], (1, T))  # N x T\n",
        "# TT = np.tile(t_star, (1, N)).T  # N x T\n",
        "\n",
        "# UU = U_star[:, 0, :]  # N x T\n",
        "# VV = U_star[:, 1, :]  # N x T\n",
        "# PP = P_star  # N x T\n",
        "\n",
        "# x = XX.flatten()[:, None]  # NT x 1\n",
        "# y = YY.flatten()[:, None]  # NT x 1\n",
        "# t = TT.flatten()[:, None]  # NT x 1\n",
        "\n",
        "# u = UU.flatten()[:, None]  # NT x 1\n",
        "# v = VV.flatten()[:, None]  # NT x 1}\n",
        "# # p = PP.flatten()[:, None]  # NT x 1\n",
        "# p=1.0-x\n",
        "\n",
        "# min_x = np.min(x)\n",
        "# max_x = np.max(x)\n",
        "# train_data = np.hstack((t, x, y, p, u, v))\n",
        "# lb = train_data.min(0)\n",
        "# ub = train_data.max(0) "
      ],
      "metadata": {
        "id": "EKitiuDiOb82"
      },
      "execution_count": null,
      "outputs": []
    },
    {
      "cell_type": "code",
      "source": [
        "# from google.colab import drive\n",
        "# drive.mount('/content/drive')\n",
        "training_loader = torch.utils.data.DataLoader(train_data, batch_size=4000, shuffle=True)"
      ],
      "metadata": {
        "id": "wVO3T2YYOM9Z"
      },
      "execution_count": null,
      "outputs": []
    },
    {
      "cell_type": "code",
      "source": [
        "        self.dnn = DNN(layers).to(device)\n",
        "        \n",
        "        # optimizers: using the same settings\n",
        "        optimizer = torch.optim.LBFGS(\n",
        "            self.dnn.parameters(), \n",
        "            lr=1.0, \n",
        "            max_iter=50000, \n",
        "            max_eval=50000, \n",
        "            history_size=50,\n",
        "            tolerance_grad=1e-5, \n",
        "            tolerance_change=1.0 * np.finfo(float).eps,\n",
        "            line_search_fn=\"strong_wolfe\"       # can be \"strong_wolfe\"\n",
        "        )\n",
        "\n",
        "        self.iter = 0\n",
        "    for i, data in enumerate(training_loader):\n",
        "        # Every data instance is an input + label pair\n",
        "        inputs, labels = data\n",
        "\n",
        "        # Zero your gradients for every batch!\n",
        "        optimizer.zero_grad()\n",
        "\n",
        "        # Make predictions for this batch\n",
        "        outputs = model(inputs)\n",
        "\n",
        "        # Compute the loss and its gradients\n",
        "        loss = loss_fn(outputs, labels)\n",
        "        loss.backward()\n",
        "\n",
        "        # Adjust learning weights\n",
        "        optimizer.step()\n",
        "\n",
        "        # Gather data and report\n",
        "        running_loss += loss.item()\n",
        "        if i % 1000 == 999:\n",
        "            last_loss = running_loss / 1000 # loss per batch\n",
        "            print('  batch {} loss: {}'.format(i + 1, last_loss))\n",
        "            tb_x = epoch_index * len(training_loader) + i + 1\n",
        "            tb_writer.add_scalar('Loss/train', last_loss, tb_x)\n",
        "            running_loss = 0.\n",
        "\n",
        "    return last_loss"
      ],
      "metadata": {
        "id": "rLkh5lZBXcDy"
      },
      "execution_count": null,
      "outputs": []
    },
    {
      "cell_type": "markdown",
      "metadata": {
        "id": "RRVvRU2YM6LK"
      },
      "source": [
        "## Training"
      ]
    },
    {
      "cell_type": "code",
      "execution_count": null,
      "metadata": {
        "id": "YPouRNePM6LK",
        "colab": {
          "base_uri": "https://localhost:8080/"
        },
        "outputId": "d4ee3b14-bb77-4ae1-ca62-e6c86c60fd1f"
      },
      "outputs": [
        {
          "output_type": "stream",
          "name": "stdout",
          "text": [
            "torch.Size([4000, 6])\n",
            "torch.Size([4000, 6])\n",
            "torch.Size([4000, 6])\n",
            "torch.Size([4000, 6])\n",
            "torch.Size([4000, 6])\n",
            "torch.Size([4000, 6])\n",
            "torch.Size([4000, 6])\n",
            "torch.Size([4000, 6])\n",
            "torch.Size([4000, 6])\n",
            "torch.Size([4000, 6])\n",
            "torch.Size([4000, 6])\n",
            "torch.Size([4000, 6])\n",
            "torch.Size([4000, 6])\n",
            "torch.Size([4000, 6])\n",
            "torch.Size([4000, 6])\n",
            "torch.Size([4000, 6])\n",
            "torch.Size([4000, 6])\n",
            "torch.Size([4000, 6])\n",
            "torch.Size([4000, 6])\n",
            "torch.Size([4000, 6])\n",
            "torch.Size([4000, 6])\n",
            "torch.Size([4000, 6])\n",
            "torch.Size([4000, 6])\n",
            "torch.Size([4000, 6])\n",
            "torch.Size([4000, 6])\n",
            "torch.Size([4000, 6])\n",
            "torch.Size([4000, 6])\n",
            "torch.Size([4000, 6])\n",
            "torch.Size([4000, 6])\n",
            "torch.Size([4000, 6])\n",
            "torch.Size([4000, 6])\n",
            "torch.Size([4000, 6])\n",
            "torch.Size([4000, 6])\n",
            "torch.Size([4000, 6])\n",
            "torch.Size([4000, 6])\n",
            "torch.Size([4000, 6])\n",
            "torch.Size([4000, 6])\n",
            "torch.Size([4000, 6])\n",
            "torch.Size([4000, 6])\n",
            "torch.Size([4000, 6])\n",
            "torch.Size([4000, 6])\n",
            "torch.Size([4000, 6])\n",
            "torch.Size([4000, 6])\n",
            "torch.Size([4000, 6])\n",
            "torch.Size([4000, 6])\n",
            "torch.Size([4000, 6])\n",
            "torch.Size([4000, 6])\n",
            "torch.Size([4000, 6])\n",
            "torch.Size([4000, 6])\n",
            "torch.Size([4000, 6])\n",
            "torch.Size([4000, 6])\n",
            "torch.Size([4000, 6])\n",
            "torch.Size([4000, 6])\n",
            "torch.Size([4000, 6])\n",
            "torch.Size([4000, 6])\n",
            "torch.Size([4000, 6])\n",
            "torch.Size([4000, 6])\n",
            "torch.Size([4000, 6])\n",
            "torch.Size([4000, 6])\n",
            "torch.Size([4000, 6])\n",
            "torch.Size([4000, 6])\n",
            "torch.Size([4000, 6])\n",
            "torch.Size([4000, 6])\n",
            "torch.Size([4000, 6])\n",
            "torch.Size([4000, 6])\n",
            "torch.Size([4000, 6])\n",
            "torch.Size([4000, 6])\n",
            "torch.Size([4000, 6])\n",
            "torch.Size([4000, 6])\n",
            "torch.Size([4000, 6])\n",
            "torch.Size([4000, 6])\n",
            "torch.Size([4000, 6])\n",
            "torch.Size([4000, 6])\n",
            "torch.Size([4000, 6])\n",
            "torch.Size([4000, 6])\n",
            "torch.Size([4000, 6])\n",
            "torch.Size([4000, 6])\n",
            "torch.Size([4000, 6])\n",
            "torch.Size([4000, 6])\n",
            "torch.Size([4000, 6])\n",
            "torch.Size([4000, 6])\n",
            "torch.Size([4000, 6])\n",
            "torch.Size([4000, 6])\n",
            "torch.Size([4000, 6])\n",
            "torch.Size([4000, 6])\n",
            "torch.Size([4000, 6])\n",
            "torch.Size([4000, 6])\n",
            "torch.Size([4000, 6])\n",
            "torch.Size([4000, 6])\n",
            "torch.Size([4000, 6])\n",
            "torch.Size([4000, 6])\n",
            "torch.Size([4000, 6])\n",
            "torch.Size([4000, 6])\n",
            "torch.Size([4000, 6])\n",
            "torch.Size([4000, 6])\n",
            "torch.Size([4000, 6])\n",
            "torch.Size([4000, 6])\n",
            "torch.Size([4000, 6])\n",
            "torch.Size([4000, 6])\n",
            "torch.Size([4000, 6])\n",
            "torch.Size([4000, 6])\n",
            "torch.Size([4000, 6])\n",
            "torch.Size([4000, 6])\n",
            "torch.Size([4000, 6])\n",
            "torch.Size([4000, 6])\n",
            "torch.Size([4000, 6])\n",
            "torch.Size([4000, 6])\n",
            "torch.Size([4000, 6])\n",
            "torch.Size([4000, 6])\n",
            "torch.Size([4000, 6])\n",
            "torch.Size([4000, 6])\n",
            "torch.Size([4000, 6])\n",
            "torch.Size([4000, 6])\n",
            "torch.Size([4000, 6])\n",
            "torch.Size([4000, 6])\n",
            "torch.Size([4000, 6])\n",
            "torch.Size([4000, 6])\n",
            "torch.Size([4000, 6])\n",
            "torch.Size([4000, 6])\n",
            "torch.Size([4000, 6])\n",
            "torch.Size([4000, 6])\n",
            "torch.Size([4000, 6])\n",
            "torch.Size([4000, 6])\n",
            "torch.Size([4000, 6])\n",
            "torch.Size([4000, 6])\n",
            "torch.Size([4000, 6])\n",
            "torch.Size([4000, 6])\n",
            "torch.Size([4000, 6])\n",
            "torch.Size([4000, 6])\n",
            "torch.Size([4000, 6])\n",
            "torch.Size([4000, 6])\n",
            "torch.Size([4000, 6])\n",
            "torch.Size([4000, 6])\n",
            "torch.Size([4000, 6])\n",
            "torch.Size([4000, 6])\n",
            "torch.Size([4000, 6])\n",
            "torch.Size([4000, 6])\n",
            "torch.Size([4000, 6])\n",
            "torch.Size([4000, 6])\n",
            "torch.Size([4000, 6])\n",
            "torch.Size([4000, 6])\n",
            "torch.Size([4000, 6])\n",
            "torch.Size([4000, 6])\n",
            "torch.Size([4000, 6])\n",
            "torch.Size([4000, 6])\n",
            "torch.Size([4000, 6])\n",
            "torch.Size([4000, 6])\n",
            "torch.Size([4000, 6])\n",
            "torch.Size([4000, 6])\n",
            "torch.Size([4000, 6])\n",
            "torch.Size([4000, 6])\n",
            "torch.Size([4000, 6])\n",
            "torch.Size([4000, 6])\n",
            "torch.Size([4000, 6])\n",
            "torch.Size([4000, 6])\n",
            "torch.Size([4000, 6])\n",
            "torch.Size([4000, 6])\n",
            "torch.Size([4000, 6])\n",
            "torch.Size([4000, 6])\n",
            "torch.Size([4000, 6])\n",
            "torch.Size([4000, 6])\n",
            "torch.Size([4000, 6])\n",
            "torch.Size([4000, 6])\n",
            "torch.Size([4000, 6])\n",
            "torch.Size([4000, 6])\n",
            "torch.Size([4000, 6])\n",
            "torch.Size([4000, 6])\n",
            "torch.Size([4000, 6])\n",
            "torch.Size([4000, 6])\n",
            "torch.Size([4000, 6])\n",
            "torch.Size([4000, 6])\n",
            "torch.Size([4000, 6])\n",
            "torch.Size([4000, 6])\n",
            "torch.Size([4000, 6])\n",
            "torch.Size([4000, 6])\n",
            "torch.Size([4000, 6])\n",
            "torch.Size([4000, 6])\n",
            "torch.Size([4000, 6])\n",
            "torch.Size([4000, 6])\n",
            "torch.Size([4000, 6])\n",
            "torch.Size([4000, 6])\n",
            "torch.Size([4000, 6])\n",
            "torch.Size([4000, 6])\n",
            "torch.Size([4000, 6])\n",
            "torch.Size([4000, 6])\n",
            "torch.Size([4000, 6])\n",
            "torch.Size([4000, 6])\n",
            "torch.Size([4000, 6])\n",
            "torch.Size([4000, 6])\n",
            "torch.Size([4000, 6])\n",
            "torch.Size([4000, 6])\n",
            "torch.Size([4000, 6])\n",
            "torch.Size([4000, 6])\n",
            "torch.Size([4000, 6])\n",
            "torch.Size([4000, 6])\n",
            "torch.Size([4000, 6])\n",
            "torch.Size([4000, 6])\n",
            "torch.Size([4000, 6])\n",
            "torch.Size([4000, 6])\n",
            "torch.Size([4000, 6])\n",
            "torch.Size([4000, 6])\n",
            "torch.Size([4000, 6])\n",
            "torch.Size([4000, 6])\n",
            "torch.Size([4000, 6])\n",
            "torch.Size([4000, 6])\n",
            "torch.Size([4000, 6])\n",
            "torch.Size([4000, 6])\n",
            "torch.Size([4000, 6])\n",
            "torch.Size([4000, 6])\n",
            "torch.Size([4000, 6])\n",
            "torch.Size([4000, 6])\n",
            "torch.Size([4000, 6])\n",
            "torch.Size([4000, 6])\n",
            "torch.Size([4000, 6])\n",
            "torch.Size([4000, 6])\n",
            "torch.Size([4000, 6])\n",
            "torch.Size([4000, 6])\n",
            "torch.Size([4000, 6])\n",
            "torch.Size([4000, 6])\n",
            "torch.Size([4000, 6])\n",
            "torch.Size([4000, 6])\n",
            "torch.Size([4000, 6])\n",
            "torch.Size([4000, 6])\n",
            "torch.Size([4000, 6])\n",
            "torch.Size([4000, 6])\n",
            "torch.Size([4000, 6])\n",
            "torch.Size([4000, 6])\n",
            "torch.Size([4000, 6])\n",
            "torch.Size([4000, 6])\n",
            "torch.Size([4000, 6])\n",
            "torch.Size([4000, 6])\n",
            "torch.Size([4000, 6])\n",
            "torch.Size([4000, 6])\n",
            "torch.Size([4000, 6])\n",
            "torch.Size([4000, 6])\n",
            "torch.Size([4000, 6])\n",
            "torch.Size([4000, 6])\n",
            "torch.Size([4000, 6])\n",
            "torch.Size([4000, 6])\n",
            "torch.Size([4000, 6])\n",
            "torch.Size([4000, 6])\n",
            "torch.Size([4000, 6])\n",
            "torch.Size([4000, 6])\n",
            "torch.Size([4000, 6])\n",
            "torch.Size([4000, 6])\n",
            "torch.Size([4000, 6])\n",
            "torch.Size([4000, 6])\n",
            "torch.Size([4000, 6])\n",
            "torch.Size([4000, 6])\n",
            "torch.Size([4000, 6])\n"
          ]
        }
      ],
      "source": [
        "for X in training_loader:\n",
        "  # print (X.shape)"
      ]
    },
    {
      "cell_type": "code",
      "execution_count": null,
      "metadata": {
        "id": "P0XwbpU5M6LK",
        "outputId": "a2114842-c58b-4115-8372-eb932d781b08",
        "colab": {
          "base_uri": "https://localhost:8080/",
          "height": 305
        }
      },
      "outputs": [
        {
          "output_type": "error",
          "ename": "ValueError",
          "evalue": "ignored",
          "traceback": [
            "\u001b[0;31m---------------------------------------------------------------------------\u001b[0m",
            "\u001b[0;31mTypeError\u001b[0m                                 Traceback (most recent call last)",
            "\u001b[0;32mmtrand.pyx\u001b[0m in \u001b[0;36mnumpy.random.mtrand.RandomState.choice\u001b[0;34m()\u001b[0m\n",
            "\u001b[0;31mTypeError\u001b[0m: 'DataLoader' object cannot be interpreted as an integer",
            "\nDuring handling of the above exception, another exception occurred:\n",
            "\u001b[0;31mValueError\u001b[0m                                Traceback (most recent call last)",
            "\u001b[0;32m<timed exec>\u001b[0m in \u001b[0;36m<module>\u001b[0;34m\u001b[0m\n",
            "\u001b[0;32mmtrand.pyx\u001b[0m in \u001b[0;36mnumpy.random.mtrand.RandomState.choice\u001b[0;34m()\u001b[0m\n",
            "\u001b[0;31mValueError\u001b[0m: a must be 1-dimensional or an integer"
          ]
        }
      ],
      "source": [
        "%%time\n",
        "\n",
        "noise = 0.0            \n",
        "# create training set\n",
        "idx = np.random.choice(training_loader, N_u, replace=True)\n",
        "X_u_train = train_data[idx,:]\n",
        "u_train = train_data[idx,:]\n",
        "\n",
        "# training\n",
        "model = PhysicsInformedNN(training_loader, layers, lb, ub)\n",
        "model.train()"
      ]
    },
    {
      "cell_type": "code",
      "execution_count": null,
      "metadata": {
        "id": "hoS8bEReM6LL",
        "outputId": "1bb87c49-c197-4f72-a5a2-bb31f88ee275",
        "colab": {
          "base_uri": "https://localhost:8080/"
        }
      },
      "outputs": [
        {
          "output_type": "stream",
          "name": "stdout",
          "text": [
            "Error u: 8.859424e-03\n"
          ]
        }
      ],
      "source": []
    },
    {
      "cell_type": "code",
      "source": [],
      "metadata": {
        "colab": {
          "base_uri": "https://localhost:8080/",
          "height": 466
        },
        "id": "w9IB154PMP4S",
        "outputId": "4574ebda-9517-409d-c1c7-081437ff7101"
      },
      "execution_count": null,
      "outputs": [
        {
          "output_type": "execute_result",
          "data": {
            "text/plain": [
              "Text(0.5, 0, 'y')"
            ]
          },
          "metadata": {},
          "execution_count": 28
        },
        {
          "output_type": "display_data",
          "data": {
            "text/plain": [
              "<Figure size 640x480 with 1 Axes>"
            ],
            "image/png": "[encoded data removed]"
          },
          "metadata": {}
        }
      ]
    },
    {
      "cell_type": "markdown",
      "metadata": {
        "id": "rcucvVrbM6LL"
      },
      "source": [
        "## Visualizations"
      ]
    }
  ],
  "metadata": {
    "kernelspec": {
      "display_name": "Python 3",
      "language": "python",
      "name": "python3"
    },
    "language_info": {
      "codemirror_mode": {
        "name": "ipython",
        "version": 3
      },
      "file_extension": ".py",
      "mimetype": "text/x-python",
      "name": "python",
      "nbconvert_exporter": "python",
      "pygments_lexer": "ipython3",
      "version": "3.6.9"
    },
    "colab": {
      "provenance": [],
      "gpuType": "T4",
      "include_colab_link": true
    },
    "accelerator": "GPU",
    "gpuClass": "standard"
  },
  "nbformat": 4,
  "nbformat_minor": 0
}